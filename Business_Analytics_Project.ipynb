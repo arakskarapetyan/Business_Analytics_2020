{
  "nbformat": 4,
  "nbformat_minor": 0,
  "metadata": {
    "colab": {
      "name": "Group_5_code",
      "provenance": [],
      "collapsed_sections": [],
      "include_colab_link": true
    },
    "kernelspec": {
      "name": "python3",
      "display_name": "Python 3"
    }
  },
  "cells": [
    {
      "cell_type": "markdown",
      "metadata": {
        "id": "view-in-github",
        "colab_type": "text"
      },
      "source": [
        "<a href=\"https://colab.research.google.com/github/arakskarapetyan/Business_Analytics_2020/blob/master/Business_Analytics_Project.ipynb\" target=\"_parent\"><img src=\"https://colab.research.google.com/assets/colab-badge.svg\" alt=\"Open In Colab\"/></a>"
      ]
    },
    {
      "cell_type": "code",
      "metadata": {
        "id": "fY8LpasFWqRG",
        "colab_type": "code",
        "outputId": "b5614133-2c3b-453f-8356-29b6571bd5ad",
        "colab": {
          "base_uri": "https://localhost:8080/",
          "height": 72
        }
      },
      "source": [
        "import pandas as pd\n",
        "import matplotlib.pyplot as plt \n",
        "import datetime\n",
        "import time\n",
        "import numpy as np\n",
        "import itertools\n",
        "from pandas import datetime\n",
        "from statsmodels.tsa.stattools import adfuller, acf, pacf,arma_order_select_ic\n",
        "from statsmodels.graphics.tsaplots import plot_acf, plot_pacf\n",
        "from statsmodels.tsa.arima_model import ARIMA\n",
        "import warnings\n",
        "warnings.simplefilter('ignore')\n",
        "from statsmodels.tsa.statespace.sarimax import SARIMAX\n",
        "from fbprophet import Prophet"
      ],
      "execution_count": 0,
      "outputs": [
        {
          "output_type": "stream",
          "text": [
            "/usr/local/lib/python3.6/dist-packages/statsmodels/tools/_testing.py:19: FutureWarning: pandas.util.testing is deprecated. Use the functions in the public API at pandas.testing instead.\n",
            "  import pandas.util.testing as tm\n"
          ],
          "name": "stderr"
        }
      ]
    },
    {
      "cell_type": "code",
      "metadata": {
        "id": "G2kjSnKMNwYN",
        "colab_type": "code",
        "colab": {}
      },
      "source": [
        "#Importing the dataframe\n",
        "url = \"https://raw.githubusercontent.com/arakskarapetyan/Business_Analytics_2020/master/Armenia_COVID_Cases.csv\"\n",
        "data = pd.read_csv(url, index_col = 'Date', parse_dates = True)"
      ],
      "execution_count": 0,
      "outputs": []
    },
    {
      "cell_type": "code",
      "metadata": {
        "id": "UXqz6CnTS1sx",
        "colab_type": "code",
        "outputId": "917d55cc-6073-4f47-ccfe-375b72bbed52",
        "colab": {
          "base_uri": "https://localhost:8080/",
          "height": 233
        }
      },
      "source": [
        "data.head()"
      ],
      "execution_count": 0,
      "outputs": [
        {
          "output_type": "execute_result",
          "data": {
            "text/html": [
              "<div>\n",
              "<style scoped>\n",
              "    .dataframe tbody tr th:only-of-type {\n",
              "        vertical-align: middle;\n",
              "    }\n",
              "\n",
              "    .dataframe tbody tr th {\n",
              "        vertical-align: top;\n",
              "    }\n",
              "\n",
              "    .dataframe thead th {\n",
              "        text-align: right;\n",
              "    }\n",
              "</style>\n",
              "<table border=\"1\" class=\"dataframe\">\n",
              "  <thead>\n",
              "    <tr style=\"text-align: right;\">\n",
              "      <th></th>\n",
              "      <th>iso_code</th>\n",
              "      <th>Country_Region</th>\n",
              "      <th>NewCases</th>\n",
              "      <th>Confirmed Cases</th>\n",
              "      <th>NewDeaths</th>\n",
              "      <th>TotalDeaths</th>\n",
              "    </tr>\n",
              "    <tr>\n",
              "      <th>Date</th>\n",
              "      <th></th>\n",
              "      <th></th>\n",
              "      <th></th>\n",
              "      <th></th>\n",
              "      <th></th>\n",
              "      <th></th>\n",
              "    </tr>\n",
              "  </thead>\n",
              "  <tbody>\n",
              "    <tr>\n",
              "      <th>2020-03-01</th>\n",
              "      <td>ARM</td>\n",
              "      <td>Armenia</td>\n",
              "      <td>1</td>\n",
              "      <td>1</td>\n",
              "      <td>0</td>\n",
              "      <td>0</td>\n",
              "    </tr>\n",
              "    <tr>\n",
              "      <th>2020-03-02</th>\n",
              "      <td>ARM</td>\n",
              "      <td>Armenia</td>\n",
              "      <td>0</td>\n",
              "      <td>1</td>\n",
              "      <td>0</td>\n",
              "      <td>0</td>\n",
              "    </tr>\n",
              "    <tr>\n",
              "      <th>2020-03-03</th>\n",
              "      <td>ARM</td>\n",
              "      <td>Armenia</td>\n",
              "      <td>0</td>\n",
              "      <td>1</td>\n",
              "      <td>0</td>\n",
              "      <td>0</td>\n",
              "    </tr>\n",
              "    <tr>\n",
              "      <th>2020-03-04</th>\n",
              "      <td>ARM</td>\n",
              "      <td>Armenia</td>\n",
              "      <td>0</td>\n",
              "      <td>1</td>\n",
              "      <td>0</td>\n",
              "      <td>0</td>\n",
              "    </tr>\n",
              "    <tr>\n",
              "      <th>2020-03-05</th>\n",
              "      <td>ARM</td>\n",
              "      <td>Armenia</td>\n",
              "      <td>0</td>\n",
              "      <td>1</td>\n",
              "      <td>0</td>\n",
              "      <td>0</td>\n",
              "    </tr>\n",
              "  </tbody>\n",
              "</table>\n",
              "</div>"
            ],
            "text/plain": [
              "           iso_code Country_Region  ...  NewDeaths  TotalDeaths\n",
              "Date                                ...                        \n",
              "2020-03-01      ARM        Armenia  ...          0            0\n",
              "2020-03-02      ARM        Armenia  ...          0            0\n",
              "2020-03-03      ARM        Armenia  ...          0            0\n",
              "2020-03-04      ARM        Armenia  ...          0            0\n",
              "2020-03-05      ARM        Armenia  ...          0            0\n",
              "\n",
              "[5 rows x 6 columns]"
            ]
          },
          "metadata": {
            "tags": []
          },
          "execution_count": 3
        }
      ]
    },
    {
      "cell_type": "code",
      "metadata": {
        "id": "2yCYQESIXWZd",
        "colab_type": "code",
        "outputId": "5dc07617-638f-474c-bfcc-1790eb949239",
        "colab": {
          "base_uri": "https://localhost:8080/",
          "height": 233
        }
      },
      "source": [
        "data.tail()"
      ],
      "execution_count": 0,
      "outputs": [
        {
          "output_type": "execute_result",
          "data": {
            "text/html": [
              "<div>\n",
              "<style scoped>\n",
              "    .dataframe tbody tr th:only-of-type {\n",
              "        vertical-align: middle;\n",
              "    }\n",
              "\n",
              "    .dataframe tbody tr th {\n",
              "        vertical-align: top;\n",
              "    }\n",
              "\n",
              "    .dataframe thead th {\n",
              "        text-align: right;\n",
              "    }\n",
              "</style>\n",
              "<table border=\"1\" class=\"dataframe\">\n",
              "  <thead>\n",
              "    <tr style=\"text-align: right;\">\n",
              "      <th></th>\n",
              "      <th>iso_code</th>\n",
              "      <th>Country_Region</th>\n",
              "      <th>NewCases</th>\n",
              "      <th>Confirmed Cases</th>\n",
              "      <th>NewDeaths</th>\n",
              "      <th>TotalDeaths</th>\n",
              "    </tr>\n",
              "    <tr>\n",
              "      <th>Date</th>\n",
              "      <th></th>\n",
              "      <th></th>\n",
              "      <th></th>\n",
              "      <th></th>\n",
              "      <th></th>\n",
              "      <th></th>\n",
              "    </tr>\n",
              "  </thead>\n",
              "  <tbody>\n",
              "    <tr>\n",
              "      <th>2020-05-10</th>\n",
              "      <td>ARM</td>\n",
              "      <td>Armenia</td>\n",
              "      <td>79</td>\n",
              "      <td>3392</td>\n",
              "      <td>1</td>\n",
              "      <td>46</td>\n",
              "    </tr>\n",
              "    <tr>\n",
              "      <th>2020-05-11</th>\n",
              "      <td>ARM</td>\n",
              "      <td>Armenia</td>\n",
              "      <td>146</td>\n",
              "      <td>3538</td>\n",
              "      <td>1</td>\n",
              "      <td>47</td>\n",
              "    </tr>\n",
              "    <tr>\n",
              "      <th>2020-05-12</th>\n",
              "      <td>ARM</td>\n",
              "      <td>Armenia</td>\n",
              "      <td>180</td>\n",
              "      <td>3718</td>\n",
              "      <td>1</td>\n",
              "      <td>48</td>\n",
              "    </tr>\n",
              "    <tr>\n",
              "      <th>2020-05-13</th>\n",
              "      <td>ARM</td>\n",
              "      <td>Armenia</td>\n",
              "      <td>142</td>\n",
              "      <td>3860</td>\n",
              "      <td>1</td>\n",
              "      <td>49</td>\n",
              "    </tr>\n",
              "    <tr>\n",
              "      <th>2020-05-14</th>\n",
              "      <td>ARM</td>\n",
              "      <td>Armenia</td>\n",
              "      <td>184</td>\n",
              "      <td>4044</td>\n",
              "      <td>3</td>\n",
              "      <td>52</td>\n",
              "    </tr>\n",
              "  </tbody>\n",
              "</table>\n",
              "</div>"
            ],
            "text/plain": [
              "           iso_code Country_Region  ...  NewDeaths  TotalDeaths\n",
              "Date                                ...                        \n",
              "2020-05-10      ARM        Armenia  ...          1           46\n",
              "2020-05-11      ARM        Armenia  ...          1           47\n",
              "2020-05-12      ARM        Armenia  ...          1           48\n",
              "2020-05-13      ARM        Armenia  ...          1           49\n",
              "2020-05-14      ARM        Armenia  ...          3           52\n",
              "\n",
              "[5 rows x 6 columns]"
            ]
          },
          "metadata": {
            "tags": []
          },
          "execution_count": 4
        }
      ]
    },
    {
      "cell_type": "code",
      "metadata": {
        "id": "4HYOf0DDYMDG",
        "colab_type": "code",
        "colab": {}
      },
      "source": [
        "data.rename(columns={'Confirmed Cases':'ConfirmedCases'},inplace=True)"
      ],
      "execution_count": 0,
      "outputs": []
    },
    {
      "cell_type": "code",
      "metadata": {
        "id": "b_ALbe_gxxJu",
        "colab_type": "code",
        "outputId": "0e0e153d-23ae-4342-b770-69ade72651a2",
        "colab": {
          "base_uri": "https://localhost:8080/",
          "height": 243
        }
      },
      "source": [
        "data.info()"
      ],
      "execution_count": 0,
      "outputs": [
        {
          "output_type": "stream",
          "text": [
            "<class 'pandas.core.frame.DataFrame'>\n",
            "DatetimeIndex: 75 entries, 2020-03-01 to 2020-05-14\n",
            "Data columns (total 6 columns):\n",
            " #   Column          Non-Null Count  Dtype \n",
            "---  ------          --------------  ----- \n",
            " 0   iso_code        75 non-null     object\n",
            " 1   Country_Region  75 non-null     object\n",
            " 2   NewCases        75 non-null     int64 \n",
            " 3   ConfirmedCases  75 non-null     int64 \n",
            " 4   NewDeaths       75 non-null     int64 \n",
            " 5   TotalDeaths     75 non-null     int64 \n",
            "dtypes: int64(4), object(2)\n",
            "memory usage: 4.1+ KB\n"
          ],
          "name": "stdout"
        }
      ]
    },
    {
      "cell_type": "code",
      "metadata": {
        "id": "iML5U_9uyON7",
        "colab_type": "code",
        "outputId": "d5957b62-44e2-47e1-fc45-95a671b2d1ce",
        "colab": {
          "base_uri": "https://localhost:8080/",
          "height": 35
        }
      },
      "source": [
        "data.shape"
      ],
      "execution_count": 0,
      "outputs": [
        {
          "output_type": "execute_result",
          "data": {
            "text/plain": [
              "(75, 6)"
            ]
          },
          "metadata": {
            "tags": []
          },
          "execution_count": 7
        }
      ]
    },
    {
      "cell_type": "code",
      "metadata": {
        "id": "16hOVSaC6joq",
        "colab_type": "code",
        "outputId": "1e33a480-06e1-42e8-fa00-26728b0f0dfe",
        "colab": {
          "base_uri": "https://localhost:8080/",
          "height": 294
        }
      },
      "source": [
        "#The following command gives us basic summary statistics. It shows that the maximum number of new recorded cases is 184, which was May 14, 2020.\n",
        "#It also shows that Armenia has total of 52 death cases, which is trivial when we compare it to the world numbers. \n",
        "data.describe()"
      ],
      "execution_count": 0,
      "outputs": [
        {
          "output_type": "execute_result",
          "data": {
            "text/html": [
              "<div>\n",
              "<style scoped>\n",
              "    .dataframe tbody tr th:only-of-type {\n",
              "        vertical-align: middle;\n",
              "    }\n",
              "\n",
              "    .dataframe tbody tr th {\n",
              "        vertical-align: top;\n",
              "    }\n",
              "\n",
              "    .dataframe thead th {\n",
              "        text-align: right;\n",
              "    }\n",
              "</style>\n",
              "<table border=\"1\" class=\"dataframe\">\n",
              "  <thead>\n",
              "    <tr style=\"text-align: right;\">\n",
              "      <th></th>\n",
              "      <th>NewCases</th>\n",
              "      <th>ConfirmedCases</th>\n",
              "      <th>NewDeaths</th>\n",
              "      <th>TotalDeaths</th>\n",
              "    </tr>\n",
              "  </thead>\n",
              "  <tbody>\n",
              "    <tr>\n",
              "      <th>count</th>\n",
              "      <td>75.000000</td>\n",
              "      <td>75.000000</td>\n",
              "      <td>75.000000</td>\n",
              "      <td>75.000000</td>\n",
              "    </tr>\n",
              "    <tr>\n",
              "      <th>mean</th>\n",
              "      <td>53.920000</td>\n",
              "      <td>1148.026667</td>\n",
              "      <td>0.693333</td>\n",
              "      <td>15.560000</td>\n",
              "    </tr>\n",
              "    <tr>\n",
              "      <th>std</th>\n",
              "      <td>48.398336</td>\n",
              "      <td>1137.691914</td>\n",
              "      <td>0.914941</td>\n",
              "      <td>16.698632</td>\n",
              "    </tr>\n",
              "    <tr>\n",
              "      <th>min</th>\n",
              "      <td>0.000000</td>\n",
              "      <td>1.000000</td>\n",
              "      <td>0.000000</td>\n",
              "      <td>0.000000</td>\n",
              "    </tr>\n",
              "    <tr>\n",
              "      <th>25%</th>\n",
              "      <td>18.500000</td>\n",
              "      <td>148.000000</td>\n",
              "      <td>0.000000</td>\n",
              "      <td>0.000000</td>\n",
              "    </tr>\n",
              "    <tr>\n",
              "      <th>50%</th>\n",
              "      <td>43.000000</td>\n",
              "      <td>881.000000</td>\n",
              "      <td>0.000000</td>\n",
              "      <td>9.000000</td>\n",
              "    </tr>\n",
              "    <tr>\n",
              "      <th>75%</th>\n",
              "      <td>73.000000</td>\n",
              "      <td>1777.000000</td>\n",
              "      <td>1.000000</td>\n",
              "      <td>28.500000</td>\n",
              "    </tr>\n",
              "    <tr>\n",
              "      <th>max</th>\n",
              "      <td>184.000000</td>\n",
              "      <td>4044.000000</td>\n",
              "      <td>4.000000</td>\n",
              "      <td>52.000000</td>\n",
              "    </tr>\n",
              "  </tbody>\n",
              "</table>\n",
              "</div>"
            ],
            "text/plain": [
              "         NewCases  ConfirmedCases  NewDeaths  TotalDeaths\n",
              "count   75.000000       75.000000  75.000000    75.000000\n",
              "mean    53.920000     1148.026667   0.693333    15.560000\n",
              "std     48.398336     1137.691914   0.914941    16.698632\n",
              "min      0.000000        1.000000   0.000000     0.000000\n",
              "25%     18.500000      148.000000   0.000000     0.000000\n",
              "50%     43.000000      881.000000   0.000000     9.000000\n",
              "75%     73.000000     1777.000000   1.000000    28.500000\n",
              "max    184.000000     4044.000000   4.000000    52.000000"
            ]
          },
          "metadata": {
            "tags": []
          },
          "execution_count": 8
        }
      ]
    },
    {
      "cell_type": "markdown",
      "metadata": {
        "id": "2xmOux2I3_4s",
        "colab_type": "text"
      },
      "source": [
        "Identification - data manipulation, transformation"
      ]
    },
    {
      "cell_type": "code",
      "metadata": {
        "id": "3RCxlh3sxV10",
        "colab_type": "code",
        "outputId": "3c119ef5-f66d-4f26-bf75-57ba8228480d",
        "colab": {
          "base_uri": "https://localhost:8080/",
          "height": 403
        }
      },
      "source": [
        "#Plotting the data of Confirmed cases: it is visible that the data has a trend as it is growing.\n",
        "plt.figure(figsize=(15,5))\n",
        "plt.subplot(1,2,1)\n",
        "data['ConfirmedCases'].plot()\n",
        "plt.ylabel('Cumulative Confirmed Cases')\n",
        "plt.title('The Growth of COVID-19 Cases in Armenia (cumulative)')\n",
        "\n",
        "plt.subplot(1,2,2)\n",
        "data['NewCases'].plot()\n",
        "plt.ylabel('Daily Confirmed Cases')\n",
        "plt.title('The Growth of COVID-19 Cases in Armenia (daily)')\n"
      ],
      "execution_count": 0,
      "outputs": [
        {
          "output_type": "execute_result",
          "data": {
            "text/plain": [
              "Text(0.5, 1.0, 'The Growth of COVID-19 Cases in Armenia (daily)')"
            ]
          },
          "metadata": {
            "tags": []
          },
          "execution_count": 9
        },
        {
          "output_type": "display_data",
          "data": {
            "image/png": "[encoded data removed]",
            "text/plain": [
              "<Figure size 1080x360 with 2 Axes>"
            ]
          },
          "metadata": {
            "tags": [],
            "needs_background": "light"
          }
        }
      ]
    },
    {
      "cell_type": "code",
      "metadata": {
        "id": "ccxuf2QXaZkd",
        "colab_type": "code",
        "outputId": "ad623a8e-3d8e-41f1-b0a0-464c72ac9105",
        "colab": {
          "base_uri": "https://localhost:8080/",
          "height": 35
        }
      },
      "source": [
        "#Calculating the autocorrelation. It seems that the cases have high correlation with the lagged copy.\n",
        "data['ConfirmedCases'].autocorr()"
      ],
      "execution_count": 0,
      "outputs": [
        {
          "output_type": "execute_result",
          "data": {
            "text/plain": [
              "0.9998395443000888"
            ]
          },
          "metadata": {
            "tags": []
          },
          "execution_count": 10
        }
      ]
    },
    {
      "cell_type": "code",
      "metadata": {
        "id": "LR3n8zx80kDN",
        "colab_type": "code",
        "outputId": "12076d6d-3c17-4fc6-aba4-76f4209bc8d6",
        "colab": {
          "base_uri": "https://localhost:8080/",
          "height": 545
        }
      },
      "source": [
        "#Plotting the autocorrelation to see if there is a correlation between confirmed cases and the lagged copy of itself. The plot shows high autocorrelation. \n",
        "plot_acf(data.ConfirmedCases, lags = 20, alpha = 0.05)"
      ],
      "execution_count": 0,
      "outputs": [
        {
          "output_type": "execute_result",
          "data": {
            "image/png": "[encoded data removed]",
            "text/plain": [
              "<Figure size 432x288 with 1 Axes>"
            ]
          },
          "metadata": {
            "tags": []
          },
          "execution_count": 11
        },
        {
          "output_type": "display_data",
          "data": {
            "image/png": "[encoded data removed]",
            "text/plain": [
              "<Figure size 432x288 with 1 Axes>"
            ]
          },
          "metadata": {
            "tags": [],
            "needs_background": "light"
          }
        }
      ]
    },
    {
      "cell_type": "code",
      "metadata": {
        "id": "S9t9kI4-3tP3",
        "colab_type": "code",
        "colab": {}
      },
      "source": [
        "#Running the adfuller test to see if the series is random walk. The null is that the series is random walk/non-stationary.\n",
        "results = adfuller(data['ConfirmedCases'])"
      ],
      "execution_count": 0,
      "outputs": []
    },
    {
      "cell_type": "code",
      "metadata": {
        "id": "a1k6yj4J55r9",
        "colab_type": "code",
        "outputId": "0325effe-fd8a-437a-e273-8e3c7f7a7122",
        "colab": {
          "base_uri": "https://localhost:8080/",
          "height": 35
        }
      },
      "source": [
        "#The p-value is 1.0, which means we fail to reject the null. \n",
        "print(results)"
      ],
      "execution_count": 0,
      "outputs": [
        {
          "output_type": "stream",
          "text": [
            "(2.7445814553103896, 1.0, 5, 69, {'1%': -3.528889992207215, '5%': -2.9044395987933362, '10%': -2.589655654274312}, 558.2635932049561)\n"
          ],
          "name": "stdout"
        }
      ]
    },
    {
      "cell_type": "code",
      "metadata": {
        "id": "1x-ERW9Q6Agq",
        "colab_type": "code",
        "colab": {}
      },
      "source": [
        "#To make the data stationary let's take the first difference of the series.\n",
        "data['data_diff1'] = data.ConfirmedCases.diff(periods = 1)"
      ],
      "execution_count": 0,
      "outputs": []
    },
    {
      "cell_type": "code",
      "metadata": {
        "id": "dM1Uk9M76Yt6",
        "colab_type": "code",
        "outputId": "5afe3cfd-24ca-4f9b-a9e5-0ab7e2ddda85",
        "colab": {
          "base_uri": "https://localhost:8080/",
          "height": 331
        }
      },
      "source": [
        "#We can observe from the plot that it still has a trend and is not stationary.\n",
        "data.data_diff1.plot()"
      ],
      "execution_count": 0,
      "outputs": [
        {
          "output_type": "execute_result",
          "data": {
            "text/plain": [
              "<matplotlib.axes._subplots.AxesSubplot at 0x7f7e328be160>"
            ]
          },
          "metadata": {
            "tags": []
          },
          "execution_count": 15
        },
        {
          "output_type": "display_data",
          "data": {
            "image/png": "[encoded data removed]",
            "text/plain": [
              "<Figure size 432x288 with 1 Axes>"
            ]
          },
          "metadata": {
            "tags": [],
            "needs_background": "light"
          }
        }
      ]
    },
    {
      "cell_type": "code",
      "metadata": {
        "id": "-SHuWTD16f1B",
        "colab_type": "code",
        "colab": {}
      },
      "source": [
        "#Let's take the 2nd difference.\n",
        "data['data_diff2'] = data.data_diff1.diff(periods = 1)"
      ],
      "execution_count": 0,
      "outputs": []
    },
    {
      "cell_type": "code",
      "metadata": {
        "id": "OGplP3XM60ju",
        "colab_type": "code",
        "colab": {}
      },
      "source": [
        "data = data.dropna()"
      ],
      "execution_count": 0,
      "outputs": []
    },
    {
      "cell_type": "code",
      "metadata": {
        "id": "qN4XboNS622m",
        "colab_type": "code",
        "outputId": "69c5b55a-6bdc-429c-edce-264e8d4d0fe9",
        "colab": {
          "base_uri": "https://localhost:8080/",
          "height": 331
        }
      },
      "source": [
        "#We can see that it became stationary.\n",
        "data.data_diff2.plot()"
      ],
      "execution_count": 0,
      "outputs": [
        {
          "output_type": "execute_result",
          "data": {
            "text/plain": [
              "<matplotlib.axes._subplots.AxesSubplot at 0x7f7e3276aeb8>"
            ]
          },
          "metadata": {
            "tags": []
          },
          "execution_count": 18
        },
        {
          "output_type": "display_data",
          "data": {
            "image/png": "[encoded data removed]",
            "text/plain": [
              "<Figure size 432x288 with 1 Axes>"
            ]
          },
          "metadata": {
            "tags": [],
            "needs_background": "light"
          }
        }
      ]
    },
    {
      "cell_type": "code",
      "metadata": {
        "id": "zjM5pK6z65g8",
        "colab_type": "code",
        "colab": {}
      },
      "source": [
        "#We run the test again.\n",
        "results1 = adfuller(data['data_diff2'])"
      ],
      "execution_count": 0,
      "outputs": []
    },
    {
      "cell_type": "code",
      "metadata": {
        "id": "f90gCM707HZ7",
        "colab_type": "code",
        "outputId": "9ac5f680-cb59-4cea-f86e-518670c04fe9",
        "colab": {
          "base_uri": "https://localhost:8080/",
          "height": 35
        }
      },
      "source": [
        "#The p-value became very small, now we can surely reject the null.\n",
        "print(results1[1])"
      ],
      "execution_count": 0,
      "outputs": [
        {
          "output_type": "stream",
          "text": [
            "0.00011164420571184414\n"
          ],
          "name": "stdout"
        }
      ]
    },
    {
      "cell_type": "code",
      "metadata": {
        "id": "ZdhJTclwphSW",
        "colab_type": "code",
        "outputId": "819bd009-cf70-4e7b-afaa-8dddfc6edaa3",
        "colab": {
          "base_uri": "https://localhost:8080/",
          "height": 385
        }
      },
      "source": [
        "#Let's create a subplot of the two versions\n",
        "plt.figure(figsize=(15,5))\n",
        "plt.subplot(1,2,1)\n",
        "data.data_diff1.plot()\n",
        "plt.title('Confirmed Cases by First Difference')\n",
        "\n",
        "plt.subplot(1,2,2)\n",
        "data.data_diff2.plot()\n",
        "plt.title('Confirmed Cases by Second Difference')\n",
        "plt.show()"
      ],
      "execution_count": 0,
      "outputs": [
        {
          "output_type": "display_data",
          "data": {
            "image/png": "[encoded data removed]",
            "text/plain": [
              "<Figure size 1080x360 with 2 Axes>"
            ]
          },
          "metadata": {
            "tags": [],
            "needs_background": "light"
          }
        }
      ]
    },
    {
      "cell_type": "code",
      "metadata": {
        "id": "cnb-6Wki7J76",
        "colab_type": "code",
        "outputId": "d14b7067-dd05-4d90-f9de-a776c5a026c8",
        "colab": {
          "base_uri": "https://localhost:8080/",
          "height": 545
        }
      },
      "source": [
        "#Plotting the autocorrelation after making the data stationary.\n",
        "plot_acf(data.data_diff2, lags = 30, alpha = 0.05)"
      ],
      "execution_count": 0,
      "outputs": [
        {
          "output_type": "execute_result",
          "data": {
            "image/png": "[encoded data removed]",
            "text/plain": [
              "<Figure size 432x288 with 1 Axes>"
            ]
          },
          "metadata": {
            "tags": []
          },
          "execution_count": 22
        },
        {
          "output_type": "display_data",
          "data": {
            "image/png": "[encoded data removed]",
            "text/plain": [
              "<Figure size 432x288 with 1 Axes>"
            ]
          },
          "metadata": {
            "tags": [],
            "needs_background": "light"
          }
        }
      ]
    },
    {
      "cell_type": "code",
      "metadata": {
        "id": "fcjIp7ID9AHJ",
        "colab_type": "code",
        "outputId": "9bd34389-94a5-471e-9194-0c44de5826a3",
        "colab": {
          "base_uri": "https://localhost:8080/",
          "height": 35
        }
      },
      "source": [
        "data['ConfirmedCases'].size"
      ],
      "execution_count": 0,
      "outputs": [
        {
          "output_type": "execute_result",
          "data": {
            "text/plain": [
              "73"
            ]
          },
          "metadata": {
            "tags": []
          },
          "execution_count": 23
        }
      ]
    },
    {
      "cell_type": "markdown",
      "metadata": {
        "id": "8guapA5-Qzuj",
        "colab_type": "text"
      },
      "source": [
        "Model estimation - ARIMA "
      ]
    },
    {
      "cell_type": "code",
      "metadata": {
        "id": "_43LcMlK_zAV",
        "colab_type": "code",
        "outputId": "9a6b7ee0-2af3-49fa-bfc2-fe45af43e301",
        "colab": {
          "base_uri": "https://localhost:8080/",
          "height": 693
        }
      },
      "source": [
        "#p, d, q\n",
        "#1. Number of AR (Auto-Regressive) terms (p).\n",
        "#2. Number of I (Integrated or Difference) terms (d).\n",
        "#3. Number of MA (Moving Average) terms (q)\n",
        "arima = SARIMAX(data['ConfirmedCases'], order=(2,2,13))\n",
        "arima_results=arima.fit()\n",
        "print(arima_results.aic)\n",
        "print(arima_results.bic)\n",
        "print(arima_results.summary())"
      ],
      "execution_count": 0,
      "outputs": [
        {
          "output_type": "stream",
          "text": [
            "648.7023973577093\n",
            "684.9052753903703\n",
            "                           Statespace Model Results                           \n",
            "==============================================================================\n",
            "Dep. Variable:         ConfirmedCases   No. Observations:                   73\n",
            "Model:              SARIMAX(2, 2, 13)   Log Likelihood                -308.351\n",
            "Date:                Fri, 15 May 2020   AIC                            648.702\n",
            "Time:                        21:27:46   BIC                            684.905\n",
            "Sample:                    03-03-2020   HQIC                           663.099\n",
            "                         - 05-14-2020                                         \n",
            "Covariance Type:                  opg                                         \n",
            "==============================================================================\n",
            "                 coef    std err          z      P>|z|      [0.025      0.975]\n",
            "------------------------------------------------------------------------------\n",
            "ar.L1         -0.5022      0.523     -0.960      0.337      -1.527       0.523\n",
            "ar.L2         -0.3968      0.203     -1.956      0.050      -0.794       0.001\n",
            "ma.L1         -0.2367     18.434     -0.013      0.990     -36.366      35.893\n",
            "ma.L2          0.1967     53.173      0.004      0.997    -104.020     104.413\n",
            "ma.L3         -0.2024     32.579     -0.006      0.995     -64.056      63.651\n",
            "ma.L4          0.0947     16.874      0.006      0.996     -32.978      33.167\n",
            "ma.L5         -0.1324     56.525     -0.002      0.998    -110.920     110.655\n",
            "ma.L6          0.3424     10.497      0.033      0.974     -20.232      20.917\n",
            "ma.L7         -0.0533     35.581     -0.001      0.999     -69.792      69.685\n",
            "ma.L8          0.1126     54.633      0.002      0.998    -106.967     107.192\n",
            "ma.L9          0.0353      7.385      0.005      0.996     -14.438      14.509\n",
            "ma.L10        -0.1168     53.507     -0.002      0.998    -104.988     104.754\n",
            "ma.L11        -0.0951     21.398     -0.004      0.996     -42.035      41.845\n",
            "ma.L12         0.4403     35.354      0.012      0.990     -68.853      69.733\n",
            "ma.L13         0.4871     29.211      0.017      0.987     -56.766      57.740\n",
            "sigma2       283.2800    1.7e+04      0.017      0.987   -3.31e+04    3.36e+04\n",
            "===================================================================================\n",
            "Ljung-Box (Q):                       20.23   Jarque-Bera (JB):                 4.14\n",
            "Prob(Q):                              1.00   Prob(JB):                         0.13\n",
            "Heteroskedasticity (H):               5.28   Skew:                             0.12\n",
            "Prob(H) (two-sided):                  0.00   Kurtosis:                         4.16\n",
            "===================================================================================\n",
            "\n",
            "Warnings:\n",
            "[1] Covariance matrix calculated using the outer product of gradients (complex-step).\n"
          ],
          "name": "stdout"
        }
      ]
    },
    {
      "cell_type": "code",
      "metadata": {
        "id": "AOSwn06i3S8L",
        "colab_type": "code",
        "outputId": "ee266220-444f-400f-9a52-93f01f23e2f9",
        "colab": {
          "base_uri": "https://localhost:8080/",
          "height": 243
        }
      },
      "source": [
        "#Assign residuals to variable\n",
        "residuals=arima_results.resid\n",
        "residuals"
      ],
      "execution_count": 0,
      "outputs": [
        {
          "output_type": "execute_result",
          "data": {
            "text/plain": [
              "Date\n",
              "2020-03-03     1.000000\n",
              "2020-03-04    -0.500019\n",
              "2020-03-05    -0.000289\n",
              "2020-03-06    -0.000156\n",
              "2020-03-07    -0.000066\n",
              "                ...    \n",
              "2020-05-10   -33.558374\n",
              "2020-05-11     2.694933\n",
              "2020-05-12    45.236336\n",
              "2020-05-13    -5.119078\n",
              "2020-05-14    20.126713\n",
              "Length: 73, dtype: float64"
            ]
          },
          "metadata": {
            "tags": []
          },
          "execution_count": 25
        }
      ]
    },
    {
      "cell_type": "code",
      "metadata": {
        "id": "oysEH00y3eW6",
        "colab_type": "code",
        "outputId": "dc8dae53-8867-4c60-9a8b-2f6e240b7308",
        "colab": {
          "base_uri": "https://localhost:8080/",
          "height": 35
        }
      },
      "source": [
        "#Calculating the mean absolute error\n",
        "mae=np.mean(np.abs(residuals))\n",
        "mae"
      ],
      "execution_count": 0,
      "outputs": [
        {
          "output_type": "execute_result",
          "data": {
            "text/plain": [
              "12.89705866944545"
            ]
          },
          "metadata": {
            "tags": []
          },
          "execution_count": 26
        }
      ]
    },
    {
      "cell_type": "code",
      "metadata": {
        "id": "y68YLByYwv37",
        "colab_type": "code",
        "outputId": "d3708127-7d41-4828-bd67-8d4bc1454ba8",
        "colab": {
          "base_uri": "https://localhost:8080/",
          "height": 35
        }
      },
      "source": [
        "#Calculating the mean absolute deviation\n",
        "residuals.mad()"
      ],
      "execution_count": 0,
      "outputs": [
        {
          "output_type": "execute_result",
          "data": {
            "text/plain": [
              "12.975773687307923"
            ]
          },
          "metadata": {
            "tags": []
          },
          "execution_count": 27
        }
      ]
    },
    {
      "cell_type": "code",
      "metadata": {
        "id": "f33YsTcy3-UH",
        "colab_type": "code",
        "outputId": "6f1fec8b-51d3-447c-e951-c90d004df03e",
        "colab": {
          "base_uri": "https://localhost:8080/",
          "height": 458
        }
      },
      "source": [
        "#Creat the 4 diagnostics plots\n",
        "arima_results.plot_diagnostics(figsize=(10,7))\n",
        "plt.show()\n",
        "#The residuals plot shows no obvious pattern/structure.\n",
        "#The histogram shows the measured distribution. A green line shows normal distribution, whereas the orange line shows the smoothed version of the histogram.\n",
        "#If the model is good, those 2 lines should be almost the same.\n",
        "#QQ plot is another way of showing how the distribution of the model resiudals compares to a normal distribution. We can see that most of the values lie along\n",
        "#the red line (except some values at either end).\n",
        "#Correlogram shows no correlation in the residuals."
      ],
      "execution_count": 0,
      "outputs": [
        {
          "output_type": "display_data",
          "data": {
            "image/png": "[encoded data removed]",
            "text/plain": [
              "<Figure size 720x504 with 4 Axes>"
            ]
          },
          "metadata": {
            "tags": [],
            "needs_background": "light"
          }
        }
      ]
    },
    {
      "cell_type": "markdown",
      "metadata": {
        "id": "lKZKIdhW4h3l",
        "colab_type": "text"
      },
      "source": [
        "Production - Making the Forecast"
      ]
    },
    {
      "cell_type": "code",
      "metadata": {
        "id": "8JA3W5L6_4sZ",
        "colab_type": "code",
        "colab": {}
      },
      "source": [
        "# Make ARIMA forecast of next 30 values\n",
        "arima_value_forecast = arima_results.get_forecast(steps=30).predicted_mean"
      ],
      "execution_count": 0,
      "outputs": []
    },
    {
      "cell_type": "code",
      "metadata": {
        "id": "eFraPvRr_-Ay",
        "colab_type": "code",
        "outputId": "1c14ebf8-59bf-4196-aa4e-3b0f5d69cfb2",
        "colab": {
          "base_uri": "https://localhost:8080/",
          "height": 555
        }
      },
      "source": [
        "# Print forecast\n",
        "print(arima_value_forecast)"
      ],
      "execution_count": 0,
      "outputs": [
        {
          "output_type": "stream",
          "text": [
            "2020-05-15    4213.349005\n",
            "2020-05-16    4367.826990\n",
            "2020-05-17    4535.161433\n",
            "2020-05-18    4715.479092\n",
            "2020-05-19    4872.843387\n",
            "2020-05-20    5063.665865\n",
            "2020-05-21    5260.967944\n",
            "2020-05-22    5431.813015\n",
            "2020-05-23    5596.147521\n",
            "2020-05-24    5791.849772\n",
            "2020-05-25    5990.985214\n",
            "2020-05-26    6181.606819\n",
            "2020-05-27    6384.267273\n",
            "2020-05-28    6584.260607\n",
            "2020-05-29    6780.815756\n",
            "2020-05-30    6980.155976\n",
            "2020-05-31    7179.461991\n",
            "2020-06-01    7377.679934\n",
            "2020-06-02    7576.457873\n",
            "2020-06-03    7775.386386\n",
            "2020-06-04    7974.017048\n",
            "2020-06-05    8172.737534\n",
            "2020-06-06    8371.531112\n",
            "2020-06-07    8570.252337\n",
            "2020-06-08    8768.980891\n",
            "2020-06-09    8967.734478\n",
            "2020-06-10    9166.472585\n",
            "2020-06-11    9365.208532\n",
            "2020-06-12    9563.951706\n",
            "2020-06-13    9762.692108\n",
            "Freq: D, dtype: float64\n"
          ],
          "name": "stdout"
        }
      ]
    },
    {
      "cell_type": "code",
      "metadata": {
        "id": "0_BIBcVOEOl7",
        "colab_type": "code",
        "outputId": "867cc603-d583-498c-bad9-043219cd8699",
        "colab": {
          "base_uri": "https://localhost:8080/",
          "height": 1000
        }
      },
      "source": [
        "#Getting all the possible combinations of p,d,q\n",
        "p = d = q = range(0,5) #We put whatever range we wish.\n",
        "pdq = list(itertools.product(p,d,q))\n",
        "pdq"
      ],
      "execution_count": 0,
      "outputs": [
        {
          "output_type": "execute_result",
          "data": {
            "text/plain": [
              "[(0, 0, 0),\n",
              " (0, 0, 1),\n",
              " (0, 0, 2),\n",
              " (0, 0, 3),\n",
              " (0, 0, 4),\n",
              " (0, 1, 0),\n",
              " (0, 1, 1),\n",
              " (0, 1, 2),\n",
              " (0, 1, 3),\n",
              " (0, 1, 4),\n",
              " (0, 2, 0),\n",
              " (0, 2, 1),\n",
              " (0, 2, 2),\n",
              " (0, 2, 3),\n",
              " (0, 2, 4),\n",
              " (0, 3, 0),\n",
              " (0, 3, 1),\n",
              " (0, 3, 2),\n",
              " (0, 3, 3),\n",
              " (0, 3, 4),\n",
              " (0, 4, 0),\n",
              " (0, 4, 1),\n",
              " (0, 4, 2),\n",
              " (0, 4, 3),\n",
              " (0, 4, 4),\n",
              " (1, 0, 0),\n",
              " (1, 0, 1),\n",
              " (1, 0, 2),\n",
              " (1, 0, 3),\n",
              " (1, 0, 4),\n",
              " (1, 1, 0),\n",
              " (1, 1, 1),\n",
              " (1, 1, 2),\n",
              " (1, 1, 3),\n",
              " (1, 1, 4),\n",
              " (1, 2, 0),\n",
              " (1, 2, 1),\n",
              " (1, 2, 2),\n",
              " (1, 2, 3),\n",
              " (1, 2, 4),\n",
              " (1, 3, 0),\n",
              " (1, 3, 1),\n",
              " (1, 3, 2),\n",
              " (1, 3, 3),\n",
              " (1, 3, 4),\n",
              " (1, 4, 0),\n",
              " (1, 4, 1),\n",
              " (1, 4, 2),\n",
              " (1, 4, 3),\n",
              " (1, 4, 4),\n",
              " (2, 0, 0),\n",
              " (2, 0, 1),\n",
              " (2, 0, 2),\n",
              " (2, 0, 3),\n",
              " (2, 0, 4),\n",
              " (2, 1, 0),\n",
              " (2, 1, 1),\n",
              " (2, 1, 2),\n",
              " (2, 1, 3),\n",
              " (2, 1, 4),\n",
              " (2, 2, 0),\n",
              " (2, 2, 1),\n",
              " (2, 2, 2),\n",
              " (2, 2, 3),\n",
              " (2, 2, 4),\n",
              " (2, 3, 0),\n",
              " (2, 3, 1),\n",
              " (2, 3, 2),\n",
              " (2, 3, 3),\n",
              " (2, 3, 4),\n",
              " (2, 4, 0),\n",
              " (2, 4, 1),\n",
              " (2, 4, 2),\n",
              " (2, 4, 3),\n",
              " (2, 4, 4),\n",
              " (3, 0, 0),\n",
              " (3, 0, 1),\n",
              " (3, 0, 2),\n",
              " (3, 0, 3),\n",
              " (3, 0, 4),\n",
              " (3, 1, 0),\n",
              " (3, 1, 1),\n",
              " (3, 1, 2),\n",
              " (3, 1, 3),\n",
              " (3, 1, 4),\n",
              " (3, 2, 0),\n",
              " (3, 2, 1),\n",
              " (3, 2, 2),\n",
              " (3, 2, 3),\n",
              " (3, 2, 4),\n",
              " (3, 3, 0),\n",
              " (3, 3, 1),\n",
              " (3, 3, 2),\n",
              " (3, 3, 3),\n",
              " (3, 3, 4),\n",
              " (3, 4, 0),\n",
              " (3, 4, 1),\n",
              " (3, 4, 2),\n",
              " (3, 4, 3),\n",
              " (3, 4, 4),\n",
              " (4, 0, 0),\n",
              " (4, 0, 1),\n",
              " (4, 0, 2),\n",
              " (4, 0, 3),\n",
              " (4, 0, 4),\n",
              " (4, 1, 0),\n",
              " (4, 1, 1),\n",
              " (4, 1, 2),\n",
              " (4, 1, 3),\n",
              " (4, 1, 4),\n",
              " (4, 2, 0),\n",
              " (4, 2, 1),\n",
              " (4, 2, 2),\n",
              " (4, 2, 3),\n",
              " (4, 2, 4),\n",
              " (4, 3, 0),\n",
              " (4, 3, 1),\n",
              " (4, 3, 2),\n",
              " (4, 3, 3),\n",
              " (4, 3, 4),\n",
              " (4, 4, 0),\n",
              " (4, 4, 1),\n",
              " (4, 4, 2),\n",
              " (4, 4, 3),\n",
              " (4, 4, 4)]"
            ]
          },
          "metadata": {
            "tags": []
          },
          "execution_count": 31
        }
      ]
    },
    {
      "cell_type": "code",
      "metadata": {
        "id": "CfPudgrqEQhX",
        "colab_type": "code",
        "outputId": "c72a212d-77ab-4764-ee32-199b9ba99c30",
        "colab": {
          "base_uri": "https://localhost:8080/",
          "height": 1000
        }
      },
      "source": [
        "#The command gives the AIC for all combinations of p,d,q. The best(lowest) version is already chosen above. \n",
        "#However, our choice was not only based on the AIC score. It also takes into account the diagnostics and error metrics. \n",
        "for param in pdq:\n",
        "    try:\n",
        "        arima = SARIMAX(data.ConfirmedCases, order = param)\n",
        "        arima_results = arima.fit()\n",
        "        print(param,arima_results.aic)\n",
        "    except:\n",
        "        continue"
      ],
      "execution_count": 0,
      "outputs": [
        {
          "output_type": "stream",
          "text": [
            "(0, 0, 0) 1289.2836171652275\n",
            "(0, 0, 1) 1197.4530924705648\n",
            "(0, 0, 2) 1122.235804319966\n",
            "(0, 0, 3) 1040.8763199158673\n",
            "(0, 0, 4) 1030.0892666370064\n",
            "(0, 1, 0) 825.5841087224925\n",
            "(0, 1, 1) 772.4267042020215\n",
            "(0, 1, 2) 739.6658778493047\n",
            "(0, 1, 3) 716.6115548148698\n",
            "(0, 1, 4) 705.584513780221\n",
            "(0, 2, 0) 659.5300652122618\n",
            "(0, 2, 1) 637.060354242711\n",
            "(0, 2, 2) 637.0845181082962\n",
            "(0, 2, 3) 638.4397935649805\n",
            "(0, 2, 4) 640.4397037882991\n",
            "(0, 3, 0) 726.4406244727888\n",
            "(0, 3, 1) 656.7566124184611\n",
            "(0, 3, 2) 630.6487012978001\n",
            "(0, 3, 3) 631.9299710012689\n",
            "(0, 3, 4) 633.8209502991695\n",
            "(0, 4, 0) 798.2312030171897\n",
            "(0, 4, 1) 723.2878527694231\n",
            "(0, 4, 2) 658.3400886080568\n",
            "(0, 4, 3) 635.2077485802605\n",
            "(0, 4, 4) 636.4317558726348\n",
            "(1, 0, 0) 846.3185504854297\n",
            "(1, 0, 1) 793.1989523424081\n",
            "(1, 0, 2) 760.4950845896616\n",
            "(1, 0, 3) 736.8959328660957\n",
            "(1, 0, 4) 731.1415405480149\n",
            "(1, 1, 0) 672.6025145758705\n",
            "(1, 1, 1) 651.1969732264549\n",
            "(1, 1, 2) 651.249500410398\n",
            "(1, 1, 3) 652.6329558452546\n",
            "(1, 1, 4) 654.6329240961604\n",
            "(1, 2, 0) 641.9796588627484\n",
            "(1, 2, 1) 637.7422946577032\n",
            "(1, 2, 2) 640.1266121302202\n",
            "(1, 2, 3) 640.4397466802411\n",
            "(1, 2, 4) 640.9513670297522\n",
            "(1, 3, 0) 688.5882101417028\n",
            "(1, 3, 1) 639.0660741285872\n",
            "(1, 3, 2) 632.0629929718694\n",
            "(1, 3, 3) 633.9486854852777\n",
            "(1, 3, 4) 636.1979943361358\n",
            "(1, 4, 0) 747.5725200928262\n",
            "(1, 4, 1) 687.0136157696165\n",
            "(1, 4, 2) 642.1624486969841\n",
            "(1, 4, 3) 636.6138679920872\n",
            "(1, 4, 4) 639.1982686019016\n",
            "(2, 0, 0) 694.115243595988\n",
            "(2, 0, 1) 674.1427524771892\n",
            "(2, 0, 2) 674.4823368620088\n",
            "(2, 0, 3) 763.9332388690292\n",
            "(2, 0, 4) 737.4011283592835\n",
            "(2, 1, 0) 655.912634103511\n",
            "(2, 1, 1) 651.8892390500155\n",
            "(2, 1, 2) 654.2704326346139\n",
            "(2, 1, 3) 655.1893380825886\n",
            "(2, 1, 4) 655.1836147948807\n",
            "(2, 2, 0) 637.1771182407506\n",
            "(2, 2, 1) 638.675067381035\n",
            "(2, 2, 2) 641.5943482473898\n",
            "(2, 2, 3) 637.0581727994726\n",
            "(2, 2, 4) 639.437349506563\n",
            "(2, 3, 0) 667.5787353616884\n",
            "(2, 3, 1) 633.011384666696\n",
            "(2, 3, 2) 633.5150869277643\n",
            "(2, 3, 3) 635.8173269815376\n",
            "(2, 3, 4) 632.4369992617662\n",
            "(2, 4, 0) 720.8116975163856\n",
            "(2, 4, 1) 667.1654009374869\n",
            "(2, 4, 2) 636.7508042914906\n",
            "(2, 4, 3) 645.9580477944954\n",
            "(2, 4, 4) 640.9075452070082\n",
            "(3, 0, 0) 678.0935469269964\n",
            "(3, 0, 1) 674.7234485021838\n",
            "(3, 0, 2) 678.1592994515519\n",
            "(3, 0, 3) 678.0684531682554\n",
            "(3, 0, 4) 745.4399581385649\n",
            "(3, 1, 0) 651.3358500087746\n",
            "(3, 1, 1) 652.851910462342\n",
            "(3, 1, 2) 654.4436046789475\n",
            "(3, 1, 3) 656.2729442242642\n",
            "(3, 1, 4) 653.6652907987205\n",
            "(3, 2, 0) 638.1849450316081\n",
            "(3, 2, 1) 637.5540757304132\n",
            "(3, 2, 2) 636.2211357111939\n",
            "(3, 2, 3) 640.1334892022725\n",
            "(3, 2, 4) 638.0962969497359\n",
            "(3, 3, 0) 642.9927394176177\n",
            "(3, 3, 1) 632.7946960301189\n",
            "(3, 3, 2) 632.1920494862225\n",
            "(3, 3, 3) 632.1081330488969\n",
            "(3, 3, 4) 631.9276311382197\n",
            "(3, 4, 0) 677.3879991124107\n",
            "(3, 4, 1) 643.7550857522767\n",
            "(3, 4, 2) 637.039066335246\n",
            "(3, 4, 3) 636.1200987265144\n",
            "(3, 4, 4) 635.5732072277499\n",
            "(4, 0, 0) 674.0582653509656\n",
            "(4, 0, 1) 681.8141787382993\n",
            "(4, 0, 2) 696.9970682431368\n",
            "(4, 0, 3) 681.209023851772\n",
            "(4, 0, 4) 736.0888293508142\n",
            "(4, 1, 0) 652.3783815997185\n",
            "(4, 1, 1) 651.7901587678123\n",
            "(4, 1, 2) 650.4073899220698\n",
            "(4, 1, 3) 652.398372258383\n",
            "(4, 1, 4) 652.5275140773658\n",
            "(4, 2, 0) 637.6824360808755\n",
            "(4, 2, 1) 638.0149802159062\n",
            "(4, 2, 2) 639.0339813976451\n",
            "(4, 2, 3) 638.5912290499862\n",
            "(4, 2, 4) 639.8681925242785\n",
            "(4, 3, 0) 644.6222256070945\n",
            "(4, 3, 1) 633.4480716479368\n",
            "(4, 3, 2) 633.6063837300842\n",
            "(4, 3, 3) 634.0018364409299\n",
            "(4, 3, 4) 633.8219688044377\n",
            "(4, 4, 0) 672.6633380300514\n",
            "(4, 4, 1) 645.4967978646736\n",
            "(4, 4, 2) 647.6650005053897\n",
            "(4, 4, 3) 637.0017032433863\n",
            "(4, 4, 4) 639.4623898898262\n"
          ],
          "name": "stdout"
        }
      ]
    },
    {
      "cell_type": "markdown",
      "metadata": {
        "id": "J4Pqrx_EtJyX",
        "colab_type": "text"
      },
      "source": [
        "#Facebook Prophet"
      ]
    },
    {
      "cell_type": "code",
      "metadata": {
        "id": "qndqe9PKtLqy",
        "colab_type": "code",
        "colab": {}
      },
      "source": [
        "#Now, let's use another approach for making a forecast. Facebook Prophet is a package, which is used for a forecast of time series data. \n",
        "#The unique thing about this package is that it automatically finds seasonal trends beneath the data and offers a solution. The aproach is a lot easier\n",
        "#than ARIMA, also it provides better visualization tools."
      ],
      "execution_count": 0,
      "outputs": []
    },
    {
      "cell_type": "code",
      "metadata": {
        "id": "j_AlMG0Ou1Er",
        "colab_type": "code",
        "colab": {}
      },
      "source": [
        "#First let's store the data in a new dataframe to make it workable for Prophet.\n",
        "data_= pd.read_csv(url)\n",
        "data_\n",
        "data_.rename(columns={'Confirmed Cases':'ConfirmedCases'},inplace=True)"
      ],
      "execution_count": 0,
      "outputs": []
    },
    {
      "cell_type": "code",
      "metadata": {
        "id": "riZnmirGwkAz",
        "colab_type": "code",
        "outputId": "b5c2d786-be5d-4d86-c2b3-7d56586d8772",
        "colab": {
          "base_uri": "https://localhost:8080/",
          "height": 202
        }
      },
      "source": [
        "#The input to Prophet should be two columns: ds and y. The ds (datestamp) column should be of a format expected by Pandas, ideally YYYY-MM-DD for a date. \n",
        "#The y column must be numeric, and represent the measurement we wish to forecast (in our case ConfirmedCases column).\n",
        "data_.rename(columns={'Date':'ds', 'ConfirmedCases':'y'},inplace=True)\n",
        "data_.head()"
      ],
      "execution_count": 0,
      "outputs": [
        {
          "output_type": "execute_result",
          "data": {
            "text/html": [
              "<div>\n",
              "<style scoped>\n",
              "    .dataframe tbody tr th:only-of-type {\n",
              "        vertical-align: middle;\n",
              "    }\n",
              "\n",
              "    .dataframe tbody tr th {\n",
              "        vertical-align: top;\n",
              "    }\n",
              "\n",
              "    .dataframe thead th {\n",
              "        text-align: right;\n",
              "    }\n",
              "</style>\n",
              "<table border=\"1\" class=\"dataframe\">\n",
              "  <thead>\n",
              "    <tr style=\"text-align: right;\">\n",
              "      <th></th>\n",
              "      <th>iso_code</th>\n",
              "      <th>Country_Region</th>\n",
              "      <th>ds</th>\n",
              "      <th>NewCases</th>\n",
              "      <th>y</th>\n",
              "      <th>NewDeaths</th>\n",
              "      <th>TotalDeaths</th>\n",
              "    </tr>\n",
              "  </thead>\n",
              "  <tbody>\n",
              "    <tr>\n",
              "      <th>0</th>\n",
              "      <td>ARM</td>\n",
              "      <td>Armenia</td>\n",
              "      <td>2020-03-01</td>\n",
              "      <td>1</td>\n",
              "      <td>1</td>\n",
              "      <td>0</td>\n",
              "      <td>0</td>\n",
              "    </tr>\n",
              "    <tr>\n",
              "      <th>1</th>\n",
              "      <td>ARM</td>\n",
              "      <td>Armenia</td>\n",
              "      <td>2020-03-02</td>\n",
              "      <td>0</td>\n",
              "      <td>1</td>\n",
              "      <td>0</td>\n",
              "      <td>0</td>\n",
              "    </tr>\n",
              "    <tr>\n",
              "      <th>2</th>\n",
              "      <td>ARM</td>\n",
              "      <td>Armenia</td>\n",
              "      <td>2020-03-03</td>\n",
              "      <td>0</td>\n",
              "      <td>1</td>\n",
              "      <td>0</td>\n",
              "      <td>0</td>\n",
              "    </tr>\n",
              "    <tr>\n",
              "      <th>3</th>\n",
              "      <td>ARM</td>\n",
              "      <td>Armenia</td>\n",
              "      <td>2020-03-04</td>\n",
              "      <td>0</td>\n",
              "      <td>1</td>\n",
              "      <td>0</td>\n",
              "      <td>0</td>\n",
              "    </tr>\n",
              "    <tr>\n",
              "      <th>4</th>\n",
              "      <td>ARM</td>\n",
              "      <td>Armenia</td>\n",
              "      <td>2020-03-05</td>\n",
              "      <td>0</td>\n",
              "      <td>1</td>\n",
              "      <td>0</td>\n",
              "      <td>0</td>\n",
              "    </tr>\n",
              "  </tbody>\n",
              "</table>\n",
              "</div>"
            ],
            "text/plain": [
              "  iso_code Country_Region          ds  NewCases  y  NewDeaths  TotalDeaths\n",
              "0      ARM        Armenia  2020-03-01         1  1          0            0\n",
              "1      ARM        Armenia  2020-03-02         0  1          0            0\n",
              "2      ARM        Armenia  2020-03-03         0  1          0            0\n",
              "3      ARM        Armenia  2020-03-04         0  1          0            0\n",
              "4      ARM        Armenia  2020-03-05         0  1          0            0"
            ]
          },
          "metadata": {
            "tags": []
          },
          "execution_count": 35
        }
      ]
    },
    {
      "cell_type": "code",
      "metadata": {
        "id": "yoF7LRL6v-BK",
        "colab_type": "code",
        "outputId": "51db163d-d1c1-42e9-bb0e-12e67bc2ca05",
        "colab": {
          "base_uri": "https://localhost:8080/",
          "height": 415
        }
      },
      "source": [
        "#We are dropping the rest of the columns, because we do not need them. \n",
        "data_.drop(['NewCases', 'TotalDeaths', 'NewDeaths',], axis=1)"
      ],
      "execution_count": 0,
      "outputs": [
        {
          "output_type": "execute_result",
          "data": {
            "text/html": [
              "<div>\n",
              "<style scoped>\n",
              "    .dataframe tbody tr th:only-of-type {\n",
              "        vertical-align: middle;\n",
              "    }\n",
              "\n",
              "    .dataframe tbody tr th {\n",
              "        vertical-align: top;\n",
              "    }\n",
              "\n",
              "    .dataframe thead th {\n",
              "        text-align: right;\n",
              "    }\n",
              "</style>\n",
              "<table border=\"1\" class=\"dataframe\">\n",
              "  <thead>\n",
              "    <tr style=\"text-align: right;\">\n",
              "      <th></th>\n",
              "      <th>iso_code</th>\n",
              "      <th>Country_Region</th>\n",
              "      <th>ds</th>\n",
              "      <th>y</th>\n",
              "    </tr>\n",
              "  </thead>\n",
              "  <tbody>\n",
              "    <tr>\n",
              "      <th>0</th>\n",
              "      <td>ARM</td>\n",
              "      <td>Armenia</td>\n",
              "      <td>2020-03-01</td>\n",
              "      <td>1</td>\n",
              "    </tr>\n",
              "    <tr>\n",
              "      <th>1</th>\n",
              "      <td>ARM</td>\n",
              "      <td>Armenia</td>\n",
              "      <td>2020-03-02</td>\n",
              "      <td>1</td>\n",
              "    </tr>\n",
              "    <tr>\n",
              "      <th>2</th>\n",
              "      <td>ARM</td>\n",
              "      <td>Armenia</td>\n",
              "      <td>2020-03-03</td>\n",
              "      <td>1</td>\n",
              "    </tr>\n",
              "    <tr>\n",
              "      <th>3</th>\n",
              "      <td>ARM</td>\n",
              "      <td>Armenia</td>\n",
              "      <td>2020-03-04</td>\n",
              "      <td>1</td>\n",
              "    </tr>\n",
              "    <tr>\n",
              "      <th>4</th>\n",
              "      <td>ARM</td>\n",
              "      <td>Armenia</td>\n",
              "      <td>2020-03-05</td>\n",
              "      <td>1</td>\n",
              "    </tr>\n",
              "    <tr>\n",
              "      <th>...</th>\n",
              "      <td>...</td>\n",
              "      <td>...</td>\n",
              "      <td>...</td>\n",
              "      <td>...</td>\n",
              "    </tr>\n",
              "    <tr>\n",
              "      <th>70</th>\n",
              "      <td>ARM</td>\n",
              "      <td>Armenia</td>\n",
              "      <td>2020-05-10</td>\n",
              "      <td>3392</td>\n",
              "    </tr>\n",
              "    <tr>\n",
              "      <th>71</th>\n",
              "      <td>ARM</td>\n",
              "      <td>Armenia</td>\n",
              "      <td>2020-05-11</td>\n",
              "      <td>3538</td>\n",
              "    </tr>\n",
              "    <tr>\n",
              "      <th>72</th>\n",
              "      <td>ARM</td>\n",
              "      <td>Armenia</td>\n",
              "      <td>2020-05-12</td>\n",
              "      <td>3718</td>\n",
              "    </tr>\n",
              "    <tr>\n",
              "      <th>73</th>\n",
              "      <td>ARM</td>\n",
              "      <td>Armenia</td>\n",
              "      <td>2020-05-13</td>\n",
              "      <td>3860</td>\n",
              "    </tr>\n",
              "    <tr>\n",
              "      <th>74</th>\n",
              "      <td>ARM</td>\n",
              "      <td>Armenia</td>\n",
              "      <td>2020-05-14</td>\n",
              "      <td>4044</td>\n",
              "    </tr>\n",
              "  </tbody>\n",
              "</table>\n",
              "<p>75 rows × 4 columns</p>\n",
              "</div>"
            ],
            "text/plain": [
              "   iso_code Country_Region          ds     y\n",
              "0       ARM        Armenia  2020-03-01     1\n",
              "1       ARM        Armenia  2020-03-02     1\n",
              "2       ARM        Armenia  2020-03-03     1\n",
              "3       ARM        Armenia  2020-03-04     1\n",
              "4       ARM        Armenia  2020-03-05     1\n",
              "..      ...            ...         ...   ...\n",
              "70      ARM        Armenia  2020-05-10  3392\n",
              "71      ARM        Armenia  2020-05-11  3538\n",
              "72      ARM        Armenia  2020-05-12  3718\n",
              "73      ARM        Armenia  2020-05-13  3860\n",
              "74      ARM        Armenia  2020-05-14  4044\n",
              "\n",
              "[75 rows x 4 columns]"
            ]
          },
          "metadata": {
            "tags": []
          },
          "execution_count": 36
        }
      ]
    },
    {
      "cell_type": "code",
      "metadata": {
        "id": "gbJ3XeMKvEJQ",
        "colab_type": "code",
        "outputId": "e087c898-abe0-4398-d761-f05f43a99538",
        "colab": {
          "base_uri": "https://localhost:8080/",
          "height": 69
        }
      },
      "source": [
        "#We are instantiating a new Prophet object and fitting it.\n",
        "m = Prophet()\n",
        "m.fit(data_)"
      ],
      "execution_count": 0,
      "outputs": [
        {
          "output_type": "stream",
          "text": [
            "INFO:fbprophet:Disabling yearly seasonality. Run prophet with yearly_seasonality=True to override this.\n",
            "INFO:fbprophet:Disabling daily seasonality. Run prophet with daily_seasonality=True to override this.\n"
          ],
          "name": "stderr"
        },
        {
          "output_type": "execute_result",
          "data": {
            "text/plain": [
              "<fbprophet.forecaster.Prophet at 0x7f7e36a0a5f8>"
            ]
          },
          "metadata": {
            "tags": []
          },
          "execution_count": 37
        }
      ]
    },
    {
      "cell_type": "code",
      "metadata": {
        "id": "-5VXXQ35wCgA",
        "colab_type": "code",
        "outputId": "2debd10b-f190-4bd4-e23c-8f7c0186e6a2",
        "colab": {
          "base_uri": "https://localhost:8080/",
          "height": 202
        }
      },
      "source": [
        "#We should create a dataframe that extends into the future a specified number of days using the helper method Prophet.make_future_dataframe.\n",
        "#By default it will also include the dates from the history, so we will see the model fit as well, which is not the case for ARIMA.\n",
        "#We have specified 30 days.\n",
        "future = m.make_future_dataframe(periods=30)\n",
        "future.tail()"
      ],
      "execution_count": 0,
      "outputs": [
        {
          "output_type": "execute_result",
          "data": {
            "text/html": [
              "<div>\n",
              "<style scoped>\n",
              "    .dataframe tbody tr th:only-of-type {\n",
              "        vertical-align: middle;\n",
              "    }\n",
              "\n",
              "    .dataframe tbody tr th {\n",
              "        vertical-align: top;\n",
              "    }\n",
              "\n",
              "    .dataframe thead th {\n",
              "        text-align: right;\n",
              "    }\n",
              "</style>\n",
              "<table border=\"1\" class=\"dataframe\">\n",
              "  <thead>\n",
              "    <tr style=\"text-align: right;\">\n",
              "      <th></th>\n",
              "      <th>ds</th>\n",
              "    </tr>\n",
              "  </thead>\n",
              "  <tbody>\n",
              "    <tr>\n",
              "      <th>100</th>\n",
              "      <td>2020-06-09</td>\n",
              "    </tr>\n",
              "    <tr>\n",
              "      <th>101</th>\n",
              "      <td>2020-06-10</td>\n",
              "    </tr>\n",
              "    <tr>\n",
              "      <th>102</th>\n",
              "      <td>2020-06-11</td>\n",
              "    </tr>\n",
              "    <tr>\n",
              "      <th>103</th>\n",
              "      <td>2020-06-12</td>\n",
              "    </tr>\n",
              "    <tr>\n",
              "      <th>104</th>\n",
              "      <td>2020-06-13</td>\n",
              "    </tr>\n",
              "  </tbody>\n",
              "</table>\n",
              "</div>"
            ],
            "text/plain": [
              "            ds\n",
              "100 2020-06-09\n",
              "101 2020-06-10\n",
              "102 2020-06-11\n",
              "103 2020-06-12\n",
              "104 2020-06-13"
            ]
          },
          "metadata": {
            "tags": []
          },
          "execution_count": 38
        }
      ]
    },
    {
      "cell_type": "code",
      "metadata": {
        "id": "Yia9YS_B1hET",
        "colab_type": "code",
        "outputId": "48faf25e-f841-4837-a71b-5974639a56f1",
        "colab": {
          "base_uri": "https://localhost:8080/",
          "height": 969
        }
      },
      "source": [
        "#The predict method will assign each row in future a predicted value which it names yhat. \n",
        "#If we pass in historical dates, it will provide an in-sample fit. The forecast object here is a new dataframe that includes a column \n",
        "#yhat with the forecast, as well as columns for components and uncertainty intervals.\n",
        "forecast = m.predict(future)\n",
        "forecast[['ds', 'yhat', 'yhat_lower', 'yhat_upper']].tail(30)"
      ],
      "execution_count": 0,
      "outputs": [
        {
          "output_type": "execute_result",
          "data": {
            "text/html": [
              "<div>\n",
              "<style scoped>\n",
              "    .dataframe tbody tr th:only-of-type {\n",
              "        vertical-align: middle;\n",
              "    }\n",
              "\n",
              "    .dataframe tbody tr th {\n",
              "        vertical-align: top;\n",
              "    }\n",
              "\n",
              "    .dataframe thead th {\n",
              "        text-align: right;\n",
              "    }\n",
              "</style>\n",
              "<table border=\"1\" class=\"dataframe\">\n",
              "  <thead>\n",
              "    <tr style=\"text-align: right;\">\n",
              "      <th></th>\n",
              "      <th>ds</th>\n",
              "      <th>yhat</th>\n",
              "      <th>yhat_lower</th>\n",
              "      <th>yhat_upper</th>\n",
              "    </tr>\n",
              "  </thead>\n",
              "  <tbody>\n",
              "    <tr>\n",
              "      <th>75</th>\n",
              "      <td>2020-05-15</td>\n",
              "      <td>4095.792099</td>\n",
              "      <td>4075.445123</td>\n",
              "      <td>4116.136946</td>\n",
              "    </tr>\n",
              "    <tr>\n",
              "      <th>76</th>\n",
              "      <td>2020-05-16</td>\n",
              "      <td>4226.856357</td>\n",
              "      <td>4203.863372</td>\n",
              "      <td>4249.120435</td>\n",
              "    </tr>\n",
              "    <tr>\n",
              "      <th>77</th>\n",
              "      <td>2020-05-17</td>\n",
              "      <td>4345.581600</td>\n",
              "      <td>4318.620700</td>\n",
              "      <td>4373.996301</td>\n",
              "    </tr>\n",
              "    <tr>\n",
              "      <th>78</th>\n",
              "      <td>2020-05-18</td>\n",
              "      <td>4474.150193</td>\n",
              "      <td>4438.223647</td>\n",
              "      <td>4507.619536</td>\n",
              "    </tr>\n",
              "    <tr>\n",
              "      <th>79</th>\n",
              "      <td>2020-05-19</td>\n",
              "      <td>4613.230862</td>\n",
              "      <td>4566.959817</td>\n",
              "      <td>4657.350704</td>\n",
              "    </tr>\n",
              "    <tr>\n",
              "      <th>80</th>\n",
              "      <td>2020-05-20</td>\n",
              "      <td>4753.584166</td>\n",
              "      <td>4697.582929</td>\n",
              "      <td>4812.652091</td>\n",
              "    </tr>\n",
              "    <tr>\n",
              "      <th>81</th>\n",
              "      <td>2020-05-21</td>\n",
              "      <td>4885.903067</td>\n",
              "      <td>4815.912379</td>\n",
              "      <td>4955.649430</td>\n",
              "    </tr>\n",
              "    <tr>\n",
              "      <th>82</th>\n",
              "      <td>2020-05-22</td>\n",
              "      <td>5009.748524</td>\n",
              "      <td>4918.001971</td>\n",
              "      <td>5098.788109</td>\n",
              "    </tr>\n",
              "    <tr>\n",
              "      <th>83</th>\n",
              "      <td>2020-05-23</td>\n",
              "      <td>5140.812783</td>\n",
              "      <td>5033.203083</td>\n",
              "      <td>5239.671098</td>\n",
              "    </tr>\n",
              "    <tr>\n",
              "      <th>84</th>\n",
              "      <td>2020-05-24</td>\n",
              "      <td>5259.538026</td>\n",
              "      <td>5135.642802</td>\n",
              "      <td>5378.117847</td>\n",
              "    </tr>\n",
              "    <tr>\n",
              "      <th>85</th>\n",
              "      <td>2020-05-25</td>\n",
              "      <td>5388.106618</td>\n",
              "      <td>5247.512827</td>\n",
              "      <td>5519.884626</td>\n",
              "    </tr>\n",
              "    <tr>\n",
              "      <th>86</th>\n",
              "      <td>2020-05-26</td>\n",
              "      <td>5527.187287</td>\n",
              "      <td>5366.007793</td>\n",
              "      <td>5682.501937</td>\n",
              "    </tr>\n",
              "    <tr>\n",
              "      <th>87</th>\n",
              "      <td>2020-05-27</td>\n",
              "      <td>5667.540591</td>\n",
              "      <td>5483.850125</td>\n",
              "      <td>5841.327772</td>\n",
              "    </tr>\n",
              "    <tr>\n",
              "      <th>88</th>\n",
              "      <td>2020-05-28</td>\n",
              "      <td>5799.859492</td>\n",
              "      <td>5589.503064</td>\n",
              "      <td>5994.378676</td>\n",
              "    </tr>\n",
              "    <tr>\n",
              "      <th>89</th>\n",
              "      <td>2020-05-29</td>\n",
              "      <td>5923.704950</td>\n",
              "      <td>5684.163976</td>\n",
              "      <td>6145.095284</td>\n",
              "    </tr>\n",
              "    <tr>\n",
              "      <th>90</th>\n",
              "      <td>2020-05-30</td>\n",
              "      <td>6054.769208</td>\n",
              "      <td>5789.829592</td>\n",
              "      <td>6295.592646</td>\n",
              "    </tr>\n",
              "    <tr>\n",
              "      <th>91</th>\n",
              "      <td>2020-05-31</td>\n",
              "      <td>6173.494452</td>\n",
              "      <td>5880.577323</td>\n",
              "      <td>6433.496894</td>\n",
              "    </tr>\n",
              "    <tr>\n",
              "      <th>92</th>\n",
              "      <td>2020-06-01</td>\n",
              "      <td>6302.063044</td>\n",
              "      <td>5984.894417</td>\n",
              "      <td>6584.427411</td>\n",
              "    </tr>\n",
              "    <tr>\n",
              "      <th>93</th>\n",
              "      <td>2020-06-02</td>\n",
              "      <td>6441.143713</td>\n",
              "      <td>6099.371317</td>\n",
              "      <td>6747.839975</td>\n",
              "    </tr>\n",
              "    <tr>\n",
              "      <th>94</th>\n",
              "      <td>2020-06-03</td>\n",
              "      <td>6581.497017</td>\n",
              "      <td>6219.557989</td>\n",
              "      <td>6916.490508</td>\n",
              "    </tr>\n",
              "    <tr>\n",
              "      <th>95</th>\n",
              "      <td>2020-06-04</td>\n",
              "      <td>6713.815918</td>\n",
              "      <td>6332.536812</td>\n",
              "      <td>7069.932314</td>\n",
              "    </tr>\n",
              "    <tr>\n",
              "      <th>96</th>\n",
              "      <td>2020-06-05</td>\n",
              "      <td>6837.661376</td>\n",
              "      <td>6433.889158</td>\n",
              "      <td>7223.166182</td>\n",
              "    </tr>\n",
              "    <tr>\n",
              "      <th>97</th>\n",
              "      <td>2020-06-06</td>\n",
              "      <td>6968.725634</td>\n",
              "      <td>6535.762856</td>\n",
              "      <td>7380.184147</td>\n",
              "    </tr>\n",
              "    <tr>\n",
              "      <th>98</th>\n",
              "      <td>2020-06-07</td>\n",
              "      <td>7087.450877</td>\n",
              "      <td>6621.435750</td>\n",
              "      <td>7537.935125</td>\n",
              "    </tr>\n",
              "    <tr>\n",
              "      <th>99</th>\n",
              "      <td>2020-06-08</td>\n",
              "      <td>7216.019470</td>\n",
              "      <td>6720.149855</td>\n",
              "      <td>7686.833402</td>\n",
              "    </tr>\n",
              "    <tr>\n",
              "      <th>100</th>\n",
              "      <td>2020-06-09</td>\n",
              "      <td>7355.100139</td>\n",
              "      <td>6829.037603</td>\n",
              "      <td>7859.576530</td>\n",
              "    </tr>\n",
              "    <tr>\n",
              "      <th>101</th>\n",
              "      <td>2020-06-10</td>\n",
              "      <td>7495.453443</td>\n",
              "      <td>6934.274244</td>\n",
              "      <td>8026.234405</td>\n",
              "    </tr>\n",
              "    <tr>\n",
              "      <th>102</th>\n",
              "      <td>2020-06-11</td>\n",
              "      <td>7627.772344</td>\n",
              "      <td>7033.218794</td>\n",
              "      <td>8191.464243</td>\n",
              "    </tr>\n",
              "    <tr>\n",
              "      <th>103</th>\n",
              "      <td>2020-06-12</td>\n",
              "      <td>7751.617801</td>\n",
              "      <td>7123.193839</td>\n",
              "      <td>8354.406847</td>\n",
              "    </tr>\n",
              "    <tr>\n",
              "      <th>104</th>\n",
              "      <td>2020-06-13</td>\n",
              "      <td>7882.682060</td>\n",
              "      <td>7205.396766</td>\n",
              "      <td>8512.211315</td>\n",
              "    </tr>\n",
              "  </tbody>\n",
              "</table>\n",
              "</div>"
            ],
            "text/plain": [
              "            ds         yhat   yhat_lower   yhat_upper\n",
              "75  2020-05-15  4095.792099  4075.445123  4116.136946\n",
              "76  2020-05-16  4226.856357  4203.863372  4249.120435\n",
              "77  2020-05-17  4345.581600  4318.620700  4373.996301\n",
              "78  2020-05-18  4474.150193  4438.223647  4507.619536\n",
              "79  2020-05-19  4613.230862  4566.959817  4657.350704\n",
              "80  2020-05-20  4753.584166  4697.582929  4812.652091\n",
              "81  2020-05-21  4885.903067  4815.912379  4955.649430\n",
              "82  2020-05-22  5009.748524  4918.001971  5098.788109\n",
              "83  2020-05-23  5140.812783  5033.203083  5239.671098\n",
              "84  2020-05-24  5259.538026  5135.642802  5378.117847\n",
              "85  2020-05-25  5388.106618  5247.512827  5519.884626\n",
              "86  2020-05-26  5527.187287  5366.007793  5682.501937\n",
              "87  2020-05-27  5667.540591  5483.850125  5841.327772\n",
              "88  2020-05-28  5799.859492  5589.503064  5994.378676\n",
              "89  2020-05-29  5923.704950  5684.163976  6145.095284\n",
              "90  2020-05-30  6054.769208  5789.829592  6295.592646\n",
              "91  2020-05-31  6173.494452  5880.577323  6433.496894\n",
              "92  2020-06-01  6302.063044  5984.894417  6584.427411\n",
              "93  2020-06-02  6441.143713  6099.371317  6747.839975\n",
              "94  2020-06-03  6581.497017  6219.557989  6916.490508\n",
              "95  2020-06-04  6713.815918  6332.536812  7069.932314\n",
              "96  2020-06-05  6837.661376  6433.889158  7223.166182\n",
              "97  2020-06-06  6968.725634  6535.762856  7380.184147\n",
              "98  2020-06-07  7087.450877  6621.435750  7537.935125\n",
              "99  2020-06-08  7216.019470  6720.149855  7686.833402\n",
              "100 2020-06-09  7355.100139  6829.037603  7859.576530\n",
              "101 2020-06-10  7495.453443  6934.274244  8026.234405\n",
              "102 2020-06-11  7627.772344  7033.218794  8191.464243\n",
              "103 2020-06-12  7751.617801  7123.193839  8354.406847\n",
              "104 2020-06-13  7882.682060  7205.396766  8512.211315"
            ]
          },
          "metadata": {
            "tags": []
          },
          "execution_count": 39
        }
      ]
    },
    {
      "cell_type": "code",
      "metadata": {
        "id": "yjCCtyEU2k4-",
        "colab_type": "code",
        "outputId": "c4479b77-6ee5-44c8-ecad-5380dc339a97",
        "colab": {
          "base_uri": "https://localhost:8080/",
          "height": 441
        }
      },
      "source": [
        "#Now we can plot the forecast\n",
        "fig1 = m.plot(forecast, xlabel='Date', ylabel='Confirmed Cases', figsize=(10,6))\n"
      ],
      "execution_count": 0,
      "outputs": [
        {
          "output_type": "display_data",
          "data": {
            "image/png": "[encoded data removed]",
            "text/plain": [
              "<Figure size 720x432 with 1 Axes>"
            ]
          },
          "metadata": {
            "tags": []
          }
        }
      ]
    },
    {
      "cell_type": "code",
      "metadata": {
        "id": "89fGv6aj4Slj",
        "colab_type": "code",
        "colab": {}
      },
      "source": [
        " #Calculate mean absolute percentage error (MAPE)\"\"\"\n",
        "def calculate_mape(y_true, y_pred):\n",
        "       return np.mean(np.abs((y_true - y_pred) / y_true)) * 100\n",
        "#Calculate mean percentage error (MPE)\"\"\"\n",
        "def calculate_mpe(y_true, y_pred):\n",
        "        return np.mean((y_true - y_pred) / y_true) * 100\n",
        "#Calculate mean absolute error (MAE)\"\"\"\n",
        "def calculate_mae(y_true, y_pred):\n",
        "        return np.mean(np.abs(y_true - y_pred)) * 100\n",
        "#Calculate root mean square error (RMSE)\"\"\"\n",
        "def calculate_mse(y_true, y_pred):\n",
        "       return np.sqrt(np.mean((y_true - y_pred)**2))\n",
        "\n",
        "def print_error_metrics(y_true, y_pred):\n",
        "    print('MAPE: %f'%calculate_mape(y_true, y_pred))\n",
        "    print('MPE: %f'%calculate_mpe(y_true, y_pred))\n",
        "    print('MAE: %f'%calculate_mae(y_true, y_pred))\n",
        "    print('MSE: %f'%calculate_mse(y_true, y_pred))\n",
        "    return"
      ],
      "execution_count": 0,
      "outputs": []
    },
    {
      "cell_type": "code",
      "metadata": {
        "id": "DFt8nFXU9Gvy",
        "colab_type": "code",
        "outputId": "4d79ef89-5266-4840-d165-563ef4e0d2ad",
        "colab": {
          "base_uri": "https://localhost:8080/",
          "height": 87
        }
      },
      "source": [
        "#In general the metrics are much higher from that of ARIMA. This means that ARIMA is more reliable in terms of accuracy. \n",
        "print_error_metrics(y_true = data_['y'], y_pred = forecast['yhat'])"
      ],
      "execution_count": 0,
      "outputs": [
        {
          "output_type": "stream",
          "text": [
            "MAPE: 93.034996\n",
            "MPE: 11.304893\n",
            "MAE: 1083.030891\n",
            "MSE: 16.430281\n"
          ],
          "name": "stdout"
        }
      ]
    },
    {
      "cell_type": "markdown",
      "metadata": {
        "id": "_62d-5t266a4",
        "colab_type": "text"
      },
      "source": [
        "THE END!"
      ]
    },
    {
      "cell_type": "code",
      "metadata": {
        "id": "JGQvOpSr688D",
        "colab_type": "code",
        "colab": {}
      },
      "source": [
        ""
      ],
      "execution_count": 0,
      "outputs": []
    }
  ]
}